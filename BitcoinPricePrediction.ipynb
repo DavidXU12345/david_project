{
 "cells": [
  {
   "cell_type": "markdown",
   "id": "9b4612d2-8594-4778-b128-6ab09cb24dd9",
   "metadata": {},
   "source": [
    "**<font size=\"6.5\">Project 1: Bitcoin Price Prediction</font>**"
   ]
  },
  {
   "cell_type": "markdown",
   "id": "0c382b69-e340-4907-b1fa-b8cf92a47f0d",
   "metadata": {},
   "source": [
    "# Introduction"
   ]
  },
  {
   "cell_type": "markdown",
   "id": "19369428-bffb-44e0-88db-d25f2f18a292",
   "metadata": {},
   "source": [
    "The aim of the project is to predict bitcoin price (adjusted closing price) using historical data such as high, low, open, close, volume by applying different machine learning or time series techniques. Firstly, I got data from yahoo finance using relevant Python library. Then, I preprocessed the raw data including splitting training and test data as well as scaling the data between 0 and 1 for later model building process.\n",
    "\n",
    "After preparing the data, I firstly tried LSTM method and applied <code>GridSearchCV</code> algorithm to pick up optimal hyperparameters for <code>activ_func</code> and <code>neurons</code>. Due to the limitation of computational power, I only picked those two parameters that I think is most important to optimize. Secondly, I tried KNN regression by taking the last day's data as feature and today's adjusted closing price as target. I also applied <code>GridSearchCV</code> algorithm to get the best number of neighbors. Thirdly, I used more traditional time series analysis method called SARIMA (Seasonal Autoregressive Integrated Moving Average). Instead of using <code>GridSearchCV</code>, the goodness of fit of SARIMA can be measured by AIC(Akaike Information Criterion). The smaller AIC, the better. I used <code>auto_arima</code> library which is able to calculate AIC and select the model with optimal parameter for me. After selecting the parameter, in order to simulate the prediction process, I would build a new SARIMA model every trading day since we are getting new information and a new model with updated information is needed. <code>pmdarima</code> library actually provides a very efficient way to update the model with a small piece of information everytime. According to the documentation, internally, the update or refresh step uses the existing parameters, taking a small amount of steps and allowing MLE to update your parameters a small amount. \n",
    "\n",
    "After building all three models, I would apply each of them on the same test data, compare them using mean absolute error, mean absolute percentage error and runtime for training and enquiry and finally pick the best model."
   ]
  },
  {
   "cell_type": "code",
   "execution_count": 1,
   "id": "5db3ecad-08f9-4dc1-bcfa-3d480a1eae2a",
   "metadata": {},
   "outputs": [],
   "source": [
    "import numpy as np\n",
    "import matplotlib.pyplot as plt\n",
    "import pandas as pd\n",
    "import pandas_datareader as web\n",
    "import datetime as dt\n",
    "import warnings\n",
    "import time\n",
    "warnings.filterwarnings(\"ignore\")\n",
    "from statsmodels.tools.sm_exceptions import ConvergenceWarning\n",
    "warnings.simplefilter('ignore', ConvergenceWarning)"
   ]
  },
  {
   "cell_type": "code",
   "execution_count": 2,
   "id": "7734db84-6687-4c89-af7c-bedf47d0ec70",
   "metadata": {},
   "outputs": [],
   "source": [
    "from sklearn.preprocessing import MinMaxScaler\n",
    "from keras.models import Sequential\n",
    "from keras.layers import Activation, Dense, Dropout, LSTM\n",
    "from keras.wrappers.scikit_learn import KerasRegressor\n",
    "from sklearn.metrics import mean_absolute_error, mean_absolute_percentage_error\n",
    "from sklearn.model_selection import GridSearchCV\n",
    "from sklearn import neighbors\n",
    "from pmdarima.arima import auto_arima\n",
    "import pmdarima as pm"
   ]
  },
  {
   "cell_type": "code",
   "execution_count": 3,
   "id": "84e880ea-aceb-419e-85d7-6e1d5cb63f8f",
   "metadata": {},
   "outputs": [],
   "source": [
    "seed = 2296\n",
    "np.random.seed(seed)"
   ]
  },
  {
   "cell_type": "markdown",
   "id": "e27d59bc-529b-4492-befb-500972e08314",
   "metadata": {},
   "source": [
    "# Get Data from Yahoo"
   ]
  },
  {
   "cell_type": "code",
   "execution_count": 4,
   "id": "581c27bc-8777-4e2e-8450-7fa0566bed50",
   "metadata": {},
   "outputs": [],
   "source": [
    "crypto_currency = 'BTC'\n",
    "against_currency = 'USD'\n",
    "start = dt.datetime(2018,1,1)\n",
    "end = dt.datetime(2022,4,1)\n",
    "data = web.DataReader(f'{crypto_currency}-{against_currency}', 'yahoo', start, end-dt.timedelta(days=1))"
   ]
  },
  {
   "cell_type": "code",
   "execution_count": 5,
   "id": "ee8447df-ff7d-4878-8957-03e6e6ee52f0",
   "metadata": {},
   "outputs": [
    {
     "data": {
      "text/html": [
       "<div>\n",
       "<style scoped>\n",
       "    .dataframe tbody tr th:only-of-type {\n",
       "        vertical-align: middle;\n",
       "    }\n",
       "\n",
       "    .dataframe tbody tr th {\n",
       "        vertical-align: top;\n",
       "    }\n",
       "\n",
       "    .dataframe thead th {\n",
       "        text-align: right;\n",
       "    }\n",
       "</style>\n",
       "<table border=\"1\" class=\"dataframe\">\n",
       "  <thead>\n",
       "    <tr style=\"text-align: right;\">\n",
       "      <th></th>\n",
       "      <th>High</th>\n",
       "      <th>Low</th>\n",
       "      <th>Open</th>\n",
       "      <th>Close</th>\n",
       "      <th>Volume</th>\n",
       "      <th>Adj Close</th>\n",
       "    </tr>\n",
       "    <tr>\n",
       "      <th>Date</th>\n",
       "      <th></th>\n",
       "      <th></th>\n",
       "      <th></th>\n",
       "      <th></th>\n",
       "      <th></th>\n",
       "      <th></th>\n",
       "    </tr>\n",
       "  </thead>\n",
       "  <tbody>\n",
       "    <tr>\n",
       "      <th>2018-01-01</th>\n",
       "      <td>14112.200195</td>\n",
       "      <td>13154.700195</td>\n",
       "      <td>14112.200195</td>\n",
       "      <td>13657.200195</td>\n",
       "      <td>10291200000</td>\n",
       "      <td>13657.200195</td>\n",
       "    </tr>\n",
       "    <tr>\n",
       "      <th>2018-01-02</th>\n",
       "      <td>15444.599609</td>\n",
       "      <td>13163.599609</td>\n",
       "      <td>13625.000000</td>\n",
       "      <td>14982.099609</td>\n",
       "      <td>16846600192</td>\n",
       "      <td>14982.099609</td>\n",
       "    </tr>\n",
       "    <tr>\n",
       "      <th>2018-01-03</th>\n",
       "      <td>15572.799805</td>\n",
       "      <td>14844.500000</td>\n",
       "      <td>14978.200195</td>\n",
       "      <td>15201.000000</td>\n",
       "      <td>16871900160</td>\n",
       "      <td>15201.000000</td>\n",
       "    </tr>\n",
       "    <tr>\n",
       "      <th>2018-01-04</th>\n",
       "      <td>15739.700195</td>\n",
       "      <td>14522.200195</td>\n",
       "      <td>15270.700195</td>\n",
       "      <td>15599.200195</td>\n",
       "      <td>21783199744</td>\n",
       "      <td>15599.200195</td>\n",
       "    </tr>\n",
       "    <tr>\n",
       "      <th>2018-01-05</th>\n",
       "      <td>17705.199219</td>\n",
       "      <td>15202.799805</td>\n",
       "      <td>15477.200195</td>\n",
       "      <td>17429.500000</td>\n",
       "      <td>23840899072</td>\n",
       "      <td>17429.500000</td>\n",
       "    </tr>\n",
       "    <tr>\n",
       "      <th>...</th>\n",
       "      <td>...</td>\n",
       "      <td>...</td>\n",
       "      <td>...</td>\n",
       "      <td>...</td>\n",
       "      <td>...</td>\n",
       "      <td>...</td>\n",
       "    </tr>\n",
       "    <tr>\n",
       "      <th>2022-03-28</th>\n",
       "      <td>48086.835938</td>\n",
       "      <td>46690.203125</td>\n",
       "      <td>46821.851562</td>\n",
       "      <td>47128.003906</td>\n",
       "      <td>36362175703</td>\n",
       "      <td>47128.003906</td>\n",
       "    </tr>\n",
       "    <tr>\n",
       "      <th>2022-03-29</th>\n",
       "      <td>48022.289062</td>\n",
       "      <td>47100.437500</td>\n",
       "      <td>47100.437500</td>\n",
       "      <td>47465.730469</td>\n",
       "      <td>31397059069</td>\n",
       "      <td>47465.730469</td>\n",
       "    </tr>\n",
       "    <tr>\n",
       "      <th>2022-03-30</th>\n",
       "      <td>47655.148438</td>\n",
       "      <td>46746.210938</td>\n",
       "      <td>47456.898438</td>\n",
       "      <td>47062.664062</td>\n",
       "      <td>29333883962</td>\n",
       "      <td>47062.664062</td>\n",
       "    </tr>\n",
       "    <tr>\n",
       "      <th>2022-03-31</th>\n",
       "      <td>47512.027344</td>\n",
       "      <td>45390.539062</td>\n",
       "      <td>47062.148438</td>\n",
       "      <td>45538.675781</td>\n",
       "      <td>33327427106</td>\n",
       "      <td>45538.675781</td>\n",
       "    </tr>\n",
       "    <tr>\n",
       "      <th>2022-04-01</th>\n",
       "      <td>46616.242188</td>\n",
       "      <td>44403.140625</td>\n",
       "      <td>45554.164062</td>\n",
       "      <td>46281.644531</td>\n",
       "      <td>38162644287</td>\n",
       "      <td>46281.644531</td>\n",
       "    </tr>\n",
       "  </tbody>\n",
       "</table>\n",
       "<p>1552 rows × 6 columns</p>\n",
       "</div>"
      ],
      "text/plain": [
       "                    High           Low          Open         Close  \\\n",
       "Date                                                                 \n",
       "2018-01-01  14112.200195  13154.700195  14112.200195  13657.200195   \n",
       "2018-01-02  15444.599609  13163.599609  13625.000000  14982.099609   \n",
       "2018-01-03  15572.799805  14844.500000  14978.200195  15201.000000   \n",
       "2018-01-04  15739.700195  14522.200195  15270.700195  15599.200195   \n",
       "2018-01-05  17705.199219  15202.799805  15477.200195  17429.500000   \n",
       "...                  ...           ...           ...           ...   \n",
       "2022-03-28  48086.835938  46690.203125  46821.851562  47128.003906   \n",
       "2022-03-29  48022.289062  47100.437500  47100.437500  47465.730469   \n",
       "2022-03-30  47655.148438  46746.210938  47456.898438  47062.664062   \n",
       "2022-03-31  47512.027344  45390.539062  47062.148438  45538.675781   \n",
       "2022-04-01  46616.242188  44403.140625  45554.164062  46281.644531   \n",
       "\n",
       "                 Volume     Adj Close  \n",
       "Date                                   \n",
       "2018-01-01  10291200000  13657.200195  \n",
       "2018-01-02  16846600192  14982.099609  \n",
       "2018-01-03  16871900160  15201.000000  \n",
       "2018-01-04  21783199744  15599.200195  \n",
       "2018-01-05  23840899072  17429.500000  \n",
       "...                 ...           ...  \n",
       "2022-03-28  36362175703  47128.003906  \n",
       "2022-03-29  31397059069  47465.730469  \n",
       "2022-03-30  29333883962  47062.664062  \n",
       "2022-03-31  33327427106  45538.675781  \n",
       "2022-04-01  38162644287  46281.644531  \n",
       "\n",
       "[1552 rows x 6 columns]"
      ]
     },
     "execution_count": 5,
     "metadata": {},
     "output_type": "execute_result"
    }
   ],
   "source": [
    "data"
   ]
  },
  {
   "cell_type": "markdown",
   "id": "0043d11d-7f63-4682-8478-698fb5465adc",
   "metadata": {},
   "source": [
    "# Data Preprocessing"
   ]
  },
  {
   "cell_type": "code",
   "execution_count": 6,
   "id": "18f32d92-61ae-4f54-97fc-eb14733765b2",
   "metadata": {},
   "outputs": [],
   "source": [
    "def train_test_split(df, test_size):\n",
    "    split_row = len(df) - int(test_size * len(df))\n",
    "    train_data = df.iloc[:split_row]\n",
    "    test_data = df.iloc[split_row:]\n",
    "    return train_data, test_data"
   ]
  },
  {
   "cell_type": "code",
   "execution_count": 7,
   "id": "54b4321e-2c3a-42cb-b7c1-5247ce3b5120",
   "metadata": {},
   "outputs": [],
   "source": [
    "def nomarlize_data(df):\n",
    "    return (df - df.min()) / (data.max() - df.min())"
   ]
  },
  {
   "cell_type": "code",
   "execution_count": 8,
   "id": "d2080a3b-99e0-49f0-a035-18ec0fc7d4a2",
   "metadata": {},
   "outputs": [],
   "source": [
    "data = nomarlize_data(data)\n",
    "train_data, test_data = train_test_split(data, test_size=0.2)"
   ]
  },
  {
   "cell_type": "code",
   "execution_count": 9,
   "id": "48acae54-4cf3-434f-8aaf-a496ba0804b1",
   "metadata": {},
   "outputs": [
    {
     "data": {
      "text/html": [
       "<div>\n",
       "<style scoped>\n",
       "    .dataframe tbody tr th:only-of-type {\n",
       "        vertical-align: middle;\n",
       "    }\n",
       "\n",
       "    .dataframe tbody tr th {\n",
       "        vertical-align: top;\n",
       "    }\n",
       "\n",
       "    .dataframe thead th {\n",
       "        text-align: right;\n",
       "    }\n",
       "</style>\n",
       "<table border=\"1\" class=\"dataframe\">\n",
       "  <thead>\n",
       "    <tr style=\"text-align: right;\">\n",
       "      <th></th>\n",
       "      <th>High</th>\n",
       "      <th>Low</th>\n",
       "      <th>Open</th>\n",
       "      <th>Close</th>\n",
       "      <th>Volume</th>\n",
       "      <th>Adj Close</th>\n",
       "    </tr>\n",
       "    <tr>\n",
       "      <th>Date</th>\n",
       "      <th></th>\n",
       "      <th></th>\n",
       "      <th></th>\n",
       "      <th></th>\n",
       "      <th></th>\n",
       "      <th></th>\n",
       "    </tr>\n",
       "  </thead>\n",
       "  <tbody>\n",
       "    <tr>\n",
       "      <th>2021-05-27</th>\n",
       "      <td>0.566354</td>\n",
       "      <td>0.538949</td>\n",
       "      <td>0.561012</td>\n",
       "      <td>0.547181</td>\n",
       "      <td>0.115753</td>\n",
       "      <td>0.547181</td>\n",
       "    </tr>\n",
       "    <tr>\n",
       "      <th>2021-05-28</th>\n",
       "      <td>0.543112</td>\n",
       "      <td>0.499879</td>\n",
       "      <td>0.548420</td>\n",
       "      <td>0.504598</td>\n",
       "      <td>0.150201</td>\n",
       "      <td>0.504598</td>\n",
       "    </tr>\n",
       "    <tr>\n",
       "      <th>2021-05-29</th>\n",
       "      <td>0.518347</td>\n",
       "      <td>0.482707</td>\n",
       "      <td>0.504527</td>\n",
       "      <td>0.487786</td>\n",
       "      <td>0.121557</td>\n",
       "      <td>0.487786</td>\n",
       "    </tr>\n",
       "    <tr>\n",
       "      <th>2021-05-30</th>\n",
       "      <td>0.505620</td>\n",
       "      <td>0.479966</td>\n",
       "      <td>0.487785</td>\n",
       "      <td>0.504296</td>\n",
       "      <td>0.082525</td>\n",
       "      <td>0.504296</td>\n",
       "    </tr>\n",
       "    <tr>\n",
       "      <th>2021-05-31</th>\n",
       "      <td>0.521915</td>\n",
       "      <td>0.491379</td>\n",
       "      <td>0.504130</td>\n",
       "      <td>0.530018</td>\n",
       "      <td>0.103683</td>\n",
       "      <td>0.530018</td>\n",
       "    </tr>\n",
       "    <tr>\n",
       "      <th>...</th>\n",
       "      <td>...</td>\n",
       "      <td>...</td>\n",
       "      <td>...</td>\n",
       "      <td>...</td>\n",
       "      <td>...</td>\n",
       "      <td>...</td>\n",
       "    </tr>\n",
       "    <tr>\n",
       "      <th>2022-03-28</th>\n",
       "      <td>0.683996</td>\n",
       "      <td>0.688374</td>\n",
       "      <td>0.677705</td>\n",
       "      <td>0.682282</td>\n",
       "      <td>0.096075</td>\n",
       "      <td>0.682282</td>\n",
       "    </tr>\n",
       "    <tr>\n",
       "      <th>2022-03-29</th>\n",
       "      <td>0.683010</td>\n",
       "      <td>0.694866</td>\n",
       "      <td>0.682037</td>\n",
       "      <td>0.687532</td>\n",
       "      <td>0.081810</td>\n",
       "      <td>0.687532</td>\n",
       "    </tr>\n",
       "    <tr>\n",
       "      <th>2022-03-30</th>\n",
       "      <td>0.677406</td>\n",
       "      <td>0.689261</td>\n",
       "      <td>0.687580</td>\n",
       "      <td>0.681266</td>\n",
       "      <td>0.075882</td>\n",
       "      <td>0.681266</td>\n",
       "    </tr>\n",
       "    <tr>\n",
       "      <th>2022-03-31</th>\n",
       "      <td>0.675222</td>\n",
       "      <td>0.667807</td>\n",
       "      <td>0.681442</td>\n",
       "      <td>0.657576</td>\n",
       "      <td>0.087356</td>\n",
       "      <td>0.657576</td>\n",
       "    </tr>\n",
       "    <tr>\n",
       "      <th>2022-04-01</th>\n",
       "      <td>0.661549</td>\n",
       "      <td>0.652181</td>\n",
       "      <td>0.657994</td>\n",
       "      <td>0.669125</td>\n",
       "      <td>0.101249</td>\n",
       "      <td>0.669125</td>\n",
       "    </tr>\n",
       "  </tbody>\n",
       "</table>\n",
       "<p>310 rows × 6 columns</p>\n",
       "</div>"
      ],
      "text/plain": [
       "                High       Low      Open     Close    Volume  Adj Close\n",
       "Date                                                                   \n",
       "2021-05-27  0.566354  0.538949  0.561012  0.547181  0.115753   0.547181\n",
       "2021-05-28  0.543112  0.499879  0.548420  0.504598  0.150201   0.504598\n",
       "2021-05-29  0.518347  0.482707  0.504527  0.487786  0.121557   0.487786\n",
       "2021-05-30  0.505620  0.479966  0.487785  0.504296  0.082525   0.504296\n",
       "2021-05-31  0.521915  0.491379  0.504130  0.530018  0.103683   0.530018\n",
       "...              ...       ...       ...       ...       ...        ...\n",
       "2022-03-28  0.683996  0.688374  0.677705  0.682282  0.096075   0.682282\n",
       "2022-03-29  0.683010  0.694866  0.682037  0.687532  0.081810   0.687532\n",
       "2022-03-30  0.677406  0.689261  0.687580  0.681266  0.075882   0.681266\n",
       "2022-03-31  0.675222  0.667807  0.681442  0.657576  0.087356   0.657576\n",
       "2022-04-01  0.661549  0.652181  0.657994  0.669125  0.101249   0.669125\n",
       "\n",
       "[310 rows x 6 columns]"
      ]
     },
     "execution_count": 9,
     "metadata": {},
     "output_type": "execute_result"
    }
   ],
   "source": [
    "test_data"
   ]
  },
  {
   "cell_type": "code",
   "execution_count": 10,
   "id": "5e8b3ade-53a2-4d17-9d57-3c7b5c0bb98e",
   "metadata": {},
   "outputs": [
    {
     "data": {
      "text/plain": [
       "<matplotlib.legend.Legend at 0x16db1283cd0>"
      ]
     },
     "execution_count": 10,
     "metadata": {},
     "output_type": "execute_result"
    },
    {
     "data": {
      "image/png": "[encoded data removed]",
      "text/plain": [
       "<Figure size 864x432 with 1 Axes>"
      ]
     },
     "metadata": {
      "needs_background": "light"
     },
     "output_type": "display_data"
    }
   ],
   "source": [
    "fig, ax = plt.subplots(1, figsize=(12, 6))\n",
    "ax.plot(train_data['Adj Close'], label='training')\n",
    "ax.plot(test_data['Adj Close'], label='test')\n",
    "ax.set_ylabel('nomarlized price', fontsize=14)\n",
    "ax.set_title(f'{crypto_currency} price training vs test data split', fontsize=18)\n",
    "ax.legend(loc='best', fontsize=14)"
   ]
  },
  {
   "cell_type": "markdown",
   "id": "38a778ca-62b1-4697-8f32-2585907ee1d8",
   "metadata": {
    "tags": []
   },
   "source": [
    "# Machine Learning Methods"
   ]
  },
  {
   "cell_type": "markdown",
   "id": "51c1eaeb",
   "metadata": {
    "pycharm": {
     "name": "#%% md\n"
    }
   },
   "source": [
    "## LSTM Model"
   ]
  },
  {
   "cell_type": "code",
   "execution_count": 11,
   "id": "79cc6756-fc93-4ae7-b3d7-9edfda5bc712",
   "metadata": {},
   "outputs": [],
   "source": [
    "class LSTM_Model:\n",
    "    def __init__(self, window_len):\n",
    "        self.model = None\n",
    "        self.x_train = None\n",
    "        self.y_train = None\n",
    "        self.x_test = None\n",
    "        self.y_test = None\n",
    "        self.y_pred = None\n",
    "        self.param_grid = None\n",
    "        self.window_len = window_len\n",
    "        self.mae = None\n",
    "        self.mape = None\n",
    "        self.train_time = None\n",
    "        self.enquiry_time = None\n",
    "        \n",
    "    def extract_window_data(self, df):\n",
    "        window_data = []\n",
    "        for idx in range(len(df) - self.window_len):\n",
    "            tmp = df[idx: (idx + self.window_len)].copy()\n",
    "            window_data.append(tmp.values)\n",
    "        return np.array(window_data)\n",
    "    \n",
    "    def prepare_data(self, train_data, test_data):\n",
    "        self.x_train = self.extract_window_data(train_data)\n",
    "        self.x_test = self.extract_window_data(test_data)\n",
    "        self.y_train = train_data['Adj Close'][self.window_len:].values\n",
    "        self.y_test = test_data['Adj Close'][self.window_len:].values\n",
    "    \n",
    "    def build_lstm_model(self, input_data, neurons=100, activ_func='linear', dropout=0.2, loss='mae', optimizer='adam'):\n",
    "        self.model = Sequential()\n",
    "        self.model.add(LSTM(neurons, return_sequences=True, input_shape=(input_data.shape[1], input_data.shape[2])))\n",
    "        self.model.add(Dropout(dropout))\n",
    "        self.model.add(LSTM(neurons, return_sequences=True))\n",
    "        self.model.add(Dropout(dropout))\n",
    "        self.model.add(LSTM(neurons))\n",
    "        self.model.add(Dropout(dropout))\n",
    "        self.model.add(Dense(units=1))\n",
    "        self.model.add(Activation(activ_func))\n",
    "        self.model.compile(loss=loss, optimizer=optimizer)\n",
    "        return self.model"
   ]
  },
  {
   "cell_type": "code",
   "execution_count": 12,
   "id": "e48aecec-f157-47c8-bd0e-662dbf36f675",
   "metadata": {},
   "outputs": [],
   "source": [
    "lstm_obj = LSTM_Model(window_len=3)"
   ]
  },
  {
   "cell_type": "code",
   "execution_count": 13,
   "id": "672b4182-f381-4ab6-a84f-41f3824f69d2",
   "metadata": {},
   "outputs": [],
   "source": [
    "lstm_obj.prepare_data(train_data, test_data)"
   ]
  },
  {
   "cell_type": "markdown",
   "id": "851ca455-4dba-4373-830a-47c2bfac8d18",
   "metadata": {},
   "source": [
    "### Adjust Hyperparameters"
   ]
  },
  {
   "cell_type": "markdown",
   "id": "631ac22a-f685-45fc-a05f-4281c3ea05f5",
   "metadata": {},
   "source": [
    "We have to use a wrapper for our <code>build_lstm_model</code> function so that we can apply <code>GridSearchCV</code> algorithm to choose optimal parameters."
   ]
  },
  {
   "cell_type": "code",
   "execution_count": 14,
   "id": "2f6151f8-0c3d-43e2-a44c-16138f103fff",
   "metadata": {},
   "outputs": [],
   "source": [
    "regressor_wrapper = KerasRegressor(build_fn=lstm_obj.build_lstm_model, input_data=lstm_obj.x_train)"
   ]
  },
  {
   "cell_type": "code",
   "execution_count": 15,
   "id": "00d36d81-0721-49c2-90dd-fb43d152b5b1",
   "metadata": {},
   "outputs": [],
   "source": [
    "activ_func = ['relu', 'tanh', 'sigmoid', 'linear']\n",
    "neurons = [20, 50, 100]\n",
    "lstm_obj.param_grid = dict(activ_func=activ_func, neurons=neurons)\n",
    "grid_result  = GridSearchCV(estimator=regressor_wrapper,\n",
    "                            param_grid=lstm_obj.param_grid,\n",
    "                            scoring='neg_mean_absolute_error')"
   ]
  },
  {
   "cell_type": "code",
   "execution_count": 16,
   "id": "c9acb341-9b03-4986-9e46-1e5645211a8a",
   "metadata": {},
   "outputs": [
    {
     "name": "stdout",
     "output_type": "stream",
     "text": [
      "31/31 [==============================] - 7s 8ms/step - loss: 0.1334\n",
      "31/31 [==============================] - 6s 7ms/step - loss: 0.1209\n",
      "31/31 [==============================] - 6s 7ms/step - loss: 0.1162\n",
      "31/31 [==============================] - 6s 7ms/step - loss: 0.1267\n",
      "31/31 [==============================] - 5s 6ms/step - loss: 0.0352\n",
      "31/31 [==============================] - 6s 8ms/step - loss: 0.0997\n",
      "31/31 [==============================] - 7s 9ms/step - loss: 0.1013\n",
      "31/31 [==============================] - 7s 8ms/step - loss: 0.0932\n",
      "31/31 [==============================] - 6s 8ms/step - loss: 0.0902\n",
      "31/31 [==============================] - 5s 6ms/step - loss: 0.0331\n",
      "31/31 [==============================] - 7s 12ms/step - loss: 0.0795\n",
      "31/31 [==============================] - 7s 11ms/step - loss: 0.0763\n",
      "31/31 [==============================] - 6s 11ms/step - loss: 0.1259\n",
      "31/31 [==============================] - 6s 12ms/step - loss: 0.0671\n",
      "31/31 [==============================] - 6s 9ms/step - loss: 0.0274\n",
      "31/31 [==============================] - 6s 7ms/step - loss: 0.1265\n",
      "31/31 [==============================] - 7s 7ms/step - loss: 0.1327\n",
      "31/31 [==============================] - 6s 7ms/step - loss: 0.1303\n",
      "31/31 [==============================] - 6s 7ms/step - loss: 0.1165\n",
      "31/31 [==============================] - 5s 5ms/step - loss: 0.0381\n",
      "31/31 [==============================] - 6s 9ms/step - loss: 0.0928\n",
      "31/31 [==============================] - 7s 9ms/step - loss: 0.0976\n",
      "31/31 [==============================] - 7s 9ms/step - loss: 0.0964\n",
      "31/31 [==============================] - 6s 9ms/step - loss: 0.1049\n",
      "31/31 [==============================] - 5s 7ms/step - loss: 0.0357\n",
      "31/31 [==============================] - 7s 12ms/step - loss: 0.0690\n",
      "31/31 [==============================] - 7s 12ms/step - loss: 0.0772\n",
      "31/31 [==============================] - 7s 12ms/step - loss: 0.0686\n",
      "31/31 [==============================] - 8s 14ms/step - loss: 0.0667\n",
      "31/31 [==============================] - 6s 10ms/step - loss: 0.0297\n",
      "31/31 [==============================] - 7s 7ms/step - loss: 0.3664\n",
      "31/31 [==============================] - 7s 8ms/step - loss: 0.3519\n",
      "31/31 [==============================] - 12s 11ms/step - loss: 0.3631\n",
      "31/31 [==============================] - 8s 8ms/step - loss: 0.3694\n",
      "31/31 [==============================] - 7s 6ms/step - loss: 0.4013\n",
      "31/31 [==============================] - 7s 10ms/step - loss: 0.3365\n",
      "31/31 [==============================] - 9s 10ms/step - loss: 0.3238\n",
      "31/31 [==============================] - 7s 11ms/step - loss: 0.3449\n",
      "31/31 [==============================] - 8s 11ms/step - loss: 0.3468\n",
      "31/31 [==============================] - 6s 8ms/step - loss: 0.3442\n",
      "31/31 [==============================] - 8s 14ms/step - loss: 0.2809\n",
      "31/31 [==============================] - 9s 17ms/step - loss: 0.2817\n",
      "31/31 [==============================] - 8s 15ms/step - loss: 0.2685\n",
      "31/31 [==============================] - 8s 15ms/step - loss: 0.2814\n",
      "31/31 [==============================] - 7s 13ms/step - loss: 0.2636\n",
      "31/31 [==============================] - 9s 9ms/step - loss: 0.1346\n",
      "31/31 [==============================] - 10s 8ms/step - loss: 0.1275\n",
      "31/31 [==============================] - 9s 8ms/step - loss: 0.1329\n",
      "31/31 [==============================] - 7s 10ms/step - loss: 0.1301\n",
      "31/31 [==============================] - 6s 7ms/step - loss: 0.0385\n",
      "31/31 [==============================] - 12s 14ms/step - loss: 0.0957\n",
      "31/31 [==============================] - 13s 17ms/step - loss: 0.1048\n",
      "31/31 [==============================] - 8s 10ms/step - loss: 0.0916\n",
      "31/31 [==============================] - 8s 11ms/step - loss: 0.1041\n",
      "31/31 [==============================] - 7s 12ms/step - loss: 0.0327\n",
      "31/31 [==============================] - 9s 15ms/step - loss: 0.0726\n",
      "31/31 [==============================] - 8s 14ms/step - loss: 0.0764\n",
      "31/31 [==============================] - 8s 13ms/step - loss: 0.0750\n",
      "31/31 [==============================] - 8s 14ms/step - loss: 0.0753\n",
      "31/31 [==============================] - 7s 15ms/step - loss: 0.0300\n",
      "39/39 [==============================] - 8s 14ms/step - loss: 0.0620\n"
     ]
    },
    {
     "data": {
      "text/plain": [
       "GridSearchCV(estimator=<keras.wrappers.scikit_learn.KerasRegressor object at 0x0000016DB11E5D90>,\n",
       "             param_grid={'activ_func': ['relu', 'tanh', 'sigmoid', 'linear'],\n",
       "                         'neurons': [20, 50, 100]},\n",
       "             scoring='neg_mean_absolute_error')"
      ]
     },
     "execution_count": 16,
     "metadata": {},
     "output_type": "execute_result"
    }
   ],
   "source": [
    "grid_result.fit(lstm_obj.x_train, lstm_obj.y_train)"
   ]
  },
  {
   "cell_type": "code",
   "execution_count": 17,
   "id": "fc70d026-e3a6-4653-bd40-0aa63a0e2fb0",
   "metadata": {},
   "outputs": [
    {
     "name": "stdout",
     "output_type": "stream",
     "text": [
      "Best: -0.029562 using {'activ_func': 'relu', 'neurons': 100}\n",
      "-0.100470 (0.136254) with: {'activ_func': 'relu', 'neurons': 20}\n",
      "-0.067269 (0.117796) with: {'activ_func': 'relu', 'neurons': 50}\n",
      "-0.029562 (0.030490) with: {'activ_func': 'relu', 'neurons': 100}\n",
      "-0.110098 (0.143190) with: {'activ_func': 'tanh', 'neurons': 20}\n",
      "-0.077288 (0.135494) with: {'activ_func': 'tanh', 'neurons': 50}\n",
      "-0.052968 (0.085081) with: {'activ_func': 'tanh', 'neurons': 100}\n",
      "-0.342615 (0.044536) with: {'activ_func': 'sigmoid', 'neurons': 20}\n",
      "-0.278366 (0.080584) with: {'activ_func': 'sigmoid', 'neurons': 50}\n",
      "-0.127150 (0.184475) with: {'activ_func': 'sigmoid', 'neurons': 100}\n",
      "-0.101745 (0.137027) with: {'activ_func': 'linear', 'neurons': 20}\n",
      "-0.065754 (0.096753) with: {'activ_func': 'linear', 'neurons': 50}\n",
      "-0.053757 (0.082805) with: {'activ_func': 'linear', 'neurons': 100}\n"
     ]
    }
   ],
   "source": [
    "print(\"Best: %f using %s\" % (grid_result.best_score_, grid_result.best_params_))\n",
    "means = grid_result.cv_results_['mean_test_score']\n",
    "stds = grid_result.cv_results_['std_test_score']\n",
    "params = grid_result.cv_results_['params']\n",
    "for mean, stdev, param in zip(means, stds, params):\n",
    "    print(\"%f (%f) with: %r\" % (mean, stdev, param))"
   ]
  },
  {
   "cell_type": "markdown",
   "id": "e0fce6d9-80ff-440a-944c-03cdeb258c9a",
   "metadata": {
    "tags": []
   },
   "source": [
    "### Train Model with Optimal Hyperparameters"
   ]
  },
  {
   "cell_type": "code",
   "execution_count": 18,
   "id": "d48cfe6e-8233-4979-a08c-cdd5c812a730",
   "metadata": {},
   "outputs": [
    {
     "name": "stdout",
     "output_type": "stream",
     "text": [
      "Epoch 1/20\n",
      "39/39 [==============================] - 10s 14ms/step - loss: 0.0549\n",
      "Epoch 2/20\n",
      "39/39 [==============================] - 1s 15ms/step - loss: 0.0169\n",
      "Epoch 3/20\n",
      "39/39 [==============================] - 1s 15ms/step - loss: 0.0152\n",
      "Epoch 4/20\n",
      "39/39 [==============================] - 1s 17ms/step - loss: 0.0166\n",
      "Epoch 5/20\n",
      "39/39 [==============================] - 1s 18ms/step - loss: 0.0157\n",
      "Epoch 6/20\n",
      "39/39 [==============================] - 1s 17ms/step - loss: 0.0155\n",
      "Epoch 7/20\n",
      "39/39 [==============================] - 1s 22ms/step - loss: 0.0147\n",
      "Epoch 8/20\n",
      "39/39 [==============================] - 1s 22ms/step - loss: 0.0152\n",
      "Epoch 9/20\n",
      "39/39 [==============================] - 1s 17ms/step - loss: 0.0141\n",
      "Epoch 10/20\n",
      "39/39 [==============================] - 1s 16ms/step - loss: 0.0145\n",
      "Epoch 11/20\n",
      "39/39 [==============================] - 1s 18ms/step - loss: 0.0133\n",
      "Epoch 12/20\n",
      "39/39 [==============================] - 1s 17ms/step - loss: 0.0152\n",
      "Epoch 13/20\n",
      "39/39 [==============================] - 1s 26ms/step - loss: 0.0148\n",
      "Epoch 14/20\n",
      "39/39 [==============================] - 1s 17ms/step - loss: 0.0152\n",
      "Epoch 15/20\n",
      "39/39 [==============================] - 1s 16ms/step - loss: 0.0149\n",
      "Epoch 16/20\n",
      "39/39 [==============================] - 1s 16ms/step - loss: 0.0163\n",
      "Epoch 17/20\n",
      "39/39 [==============================] - 1s 16ms/step - loss: 0.0131\n",
      "Epoch 18/20\n",
      "39/39 [==============================] - 1s 14ms/step - loss: 0.0138\n",
      "Epoch 19/20\n",
      "39/39 [==============================] - 1s 16ms/step - loss: 0.0141\n",
      "Epoch 20/20\n",
      "39/39 [==============================] - 1s 18ms/step - loss: 0.0125\n"
     ]
    }
   ],
   "source": [
    "start = time.time()\n",
    "lstm_obj.build_lstm_model(lstm_obj.x_train, activ_func=grid_result.best_params_['activ_func'], neurons=grid_result.best_params_['neurons'])\n",
    "lstm_obj.model.fit(lstm_obj.x_train, lstm_obj.y_train, epochs=20, batch_size=32)\n",
    "end = time.time()\n",
    "lstm_obj.train_time = end - start"
   ]
  },
  {
   "cell_type": "markdown",
   "id": "74667e36-7d78-4721-8839-6f4621ca7aec",
   "metadata": {},
   "source": [
    "### Prediction and Evaluation"
   ]
  },
  {
   "cell_type": "code",
   "execution_count": 19,
   "id": "7fe982cf-9e5c-415a-9e9a-37c2e1eaeb75",
   "metadata": {},
   "outputs": [],
   "source": [
    "start = time.time()\n",
    "lstm_obj.y_pred = lstm_obj.model.predict(lstm_obj.x_test)\n",
    "end = time.time()\n",
    "lstm_obj.enquiry_time = end - start"
   ]
  },
  {
   "cell_type": "code",
   "execution_count": 20,
   "id": "5fd455fc-e4cc-41b0-8aaa-8e70f811f164",
   "metadata": {},
   "outputs": [
    {
     "data": {
      "text/plain": [
       "0.0334053934210211"
      ]
     },
     "execution_count": 20,
     "metadata": {},
     "output_type": "execute_result"
    }
   ],
   "source": [
    "lstm_obj.mae = mean_absolute_error(lstm_obj.y_pred, lstm_obj.y_test)\n",
    "lstm_obj.mae"
   ]
  },
  {
   "cell_type": "code",
   "execution_count": 21,
   "id": "ad565136-fe47-481f-996f-60b996467605",
   "metadata": {},
   "outputs": [
    {
     "data": {
      "text/plain": [
       "0.0334053934210211"
      ]
     },
     "execution_count": 21,
     "metadata": {},
     "output_type": "execute_result"
    }
   ],
   "source": [
    "lstm_obj.mape = mean_absolute_percentage_error(lstm_obj.y_pred, lstm_obj.y_test)\n",
    "lstm_obj.mae"
   ]
  },
  {
   "cell_type": "code",
   "execution_count": 22,
   "id": "ac0105ae-a916-4899-91ce-9d2245e49974",
   "metadata": {},
   "outputs": [
    {
     "data": {
      "text/plain": [
       "0.13657116544109996"
      ]
     },
     "execution_count": 22,
     "metadata": {},
     "output_type": "execute_result"
    }
   ],
   "source": [
    "np.std(lstm_obj.y_test)"
   ]
  },
  {
   "cell_type": "code",
   "execution_count": 23,
   "id": "63826403-a73e-46fc-af14-e60fa5f19c4b",
   "metadata": {},
   "outputs": [
    {
     "data": {
      "image/png": "[encoded data removed]",
      "text/plain": [
       "<Figure size 864x432 with 1 Axes>"
      ]
     },
     "metadata": {
      "needs_background": "light"
     },
     "output_type": "display_data"
    }
   ],
   "source": [
    "plt.figure(figsize=(12,6))\n",
    "plt.plot(test_data[lstm_obj.window_len:].index, lstm_obj.y_test, color='blue', label='Actual Prices')\n",
    "plt.plot(test_data[lstm_obj.window_len:].index, lstm_obj.y_pred, color='red', label='Predicted Prices')\n",
    "plt.title(f'{crypto_currency} price prediction (LSTM)')\n",
    "plt.xlabel('Date')\n",
    "plt.ylabel('Normalized Price')\n",
    "plt.legend(fontsize=14)\n",
    "plt.show()"
   ]
  },
  {
   "cell_type": "markdown",
   "id": "f1037266-ad50-402f-be5d-87c7b8008cab",
   "metadata": {},
   "source": [
    "## KNN"
   ]
  },
  {
   "cell_type": "code",
   "execution_count": 24,
   "id": "b64acbfb-b3a1-4051-9e7b-6e099ecb6689",
   "metadata": {},
   "outputs": [],
   "source": [
    "class KNN_Model:\n",
    "    def __init__(self):\n",
    "        self.model = None\n",
    "        self.x_train = None\n",
    "        self.y_train = None\n",
    "        self.x_test = None\n",
    "        self.y_test = None\n",
    "        self.y_pred = None\n",
    "        self.param_grid = None\n",
    "        self.mae = None\n",
    "        self.mape = None\n",
    "        self.train_time = None\n",
    "        self.enquiry_time = None\n",
    "    \n",
    "    def build_model(self, n_neighbors=5):\n",
    "        self.model = neighbors.KNeighborsRegressor(n_neighbors=n_neighbors)\n",
    "    \n",
    "    def prepare_data(self, train_data, test_data):\n",
    "        self.x_train = train_data.shift(1).dropna()\n",
    "        self.y_train = train_data['Adj Close'].iloc[1:]\n",
    "        self.x_test = test_data.shift(1).dropna()\n",
    "        self.y_test = test_data['Adj Close'].iloc[1:]"
   ]
  },
  {
   "cell_type": "code",
   "execution_count": 25,
   "id": "cacd19d1-2ab8-4207-80c3-587088a0ed61",
   "metadata": {},
   "outputs": [],
   "source": [
    "knn_obj = KNN_Model()\n",
    "knn_obj.prepare_data(train_data, test_data)\n",
    "knn_obj.build_model()"
   ]
  },
  {
   "cell_type": "markdown",
   "id": "0da9418a-029f-499e-ad66-58f3094bb42b",
   "metadata": {},
   "source": [
    "### Adjust Hyperparameters"
   ]
  },
  {
   "cell_type": "code",
   "execution_count": 26,
   "id": "a0757440-6127-44e5-b4d6-ea9dc6493950",
   "metadata": {},
   "outputs": [
    {
     "data": {
      "text/plain": [
       "GridSearchCV(cv=5, estimator=KNeighborsRegressor(),\n",
       "             param_grid={'n_neighbors': [2, 5, 10, 15, 20]},\n",
       "             scoring='neg_mean_absolute_error')"
      ]
     },
     "execution_count": 26,
     "metadata": {},
     "output_type": "execute_result"
    }
   ],
   "source": [
    "knn_obj.param_grid = {'n_neighbors':[2, 5, 10, 15, 20]}\n",
    "grid_result = GridSearchCV(knn_obj.model, knn_obj.param_grid, cv=5, scoring='neg_mean_absolute_error')\n",
    "grid_result.fit(knn_obj.x_train, knn_obj.y_train)"
   ]
  },
  {
   "cell_type": "code",
   "execution_count": 27,
   "id": "2ade97f9-78cf-42c9-b8b9-cc769fff6fb8",
   "metadata": {},
   "outputs": [
    {
     "name": "stdout",
     "output_type": "stream",
     "text": [
      "Best: -0.069868 using {'n_neighbors': 5}\n",
      "-0.070811 (0.120315) with: {'n_neighbors': 2}\n",
      "-0.069868 (0.119658) with: {'n_neighbors': 5}\n",
      "-0.071725 (0.123713) with: {'n_neighbors': 10}\n",
      "-0.073192 (0.126498) with: {'n_neighbors': 15}\n",
      "-0.075251 (0.130492) with: {'n_neighbors': 20}\n"
     ]
    }
   ],
   "source": [
    "print(\"Best: %f using %s\" % (grid_result.best_score_, grid_result.best_params_))\n",
    "means = grid_result.cv_results_['mean_test_score']\n",
    "stds = grid_result.cv_results_['std_test_score']\n",
    "params = grid_result.cv_results_['params']\n",
    "for mean, stdev, param in zip(means, stds, params):\n",
    "    print(\"%f (%f) with: %r\" % (mean, stdev, param))"
   ]
  },
  {
   "cell_type": "markdown",
   "id": "47fd39d4-66fb-478b-ba46-c0dc6d4d5ad7",
   "metadata": {},
   "source": [
    "### Train Model with Optimal Hyperparameters"
   ]
  },
  {
   "cell_type": "code",
   "execution_count": 28,
   "id": "6cd7a53b-0263-446a-bd26-50fd835ce223",
   "metadata": {},
   "outputs": [],
   "source": [
    "start = time.time()\n",
    "knn_obj.build_model(n_neighbors=grid_result.best_params_['n_neighbors'])\n",
    "knn_obj.model.fit(knn_obj.x_train, knn_obj.y_train)\n",
    "end = time.time()\n",
    "knn_obj.train_time = end - start"
   ]
  },
  {
   "cell_type": "markdown",
   "id": "b2bbf6e3-1874-4473-bc68-54a077d12304",
   "metadata": {},
   "source": [
    "### Prediction and Evaluation"
   ]
  },
  {
   "cell_type": "code",
   "execution_count": 29,
   "id": "604aaf13-8e06-4a58-ab70-4a5a6eb236ab",
   "metadata": {},
   "outputs": [],
   "source": [
    "start = time.time()\n",
    "knn_obj.y_pred = knn_obj.model.predict(knn_obj.x_test)\n",
    "end = time.time()\n",
    "knn_obj.enquiry_time = end - start"
   ]
  },
  {
   "cell_type": "code",
   "execution_count": 30,
   "id": "e0c2e715-7c12-4bdf-aa5f-365a688c4a66",
   "metadata": {},
   "outputs": [
    {
     "data": {
      "text/plain": [
       "0.028632514705153232"
      ]
     },
     "execution_count": 30,
     "metadata": {},
     "output_type": "execute_result"
    }
   ],
   "source": [
    "knn_obj.mae = mean_absolute_error(knn_obj.y_pred, knn_obj.y_test)\n",
    "knn_obj.mae"
   ]
  },
  {
   "cell_type": "code",
   "execution_count": 31,
   "id": "26b38a85-fcd3-4217-b357-dd3a15ff2ed5",
   "metadata": {},
   "outputs": [
    {
     "data": {
      "text/plain": [
       "0.04385786714131579"
      ]
     },
     "execution_count": 31,
     "metadata": {},
     "output_type": "execute_result"
    }
   ],
   "source": [
    "knn_obj.mape = mean_absolute_percentage_error(knn_obj.y_pred, knn_obj.y_test)\n",
    "knn_obj.mape"
   ]
  },
  {
   "cell_type": "code",
   "execution_count": 32,
   "id": "26db2745-09c1-428d-9883-c590f06fde00",
   "metadata": {},
   "outputs": [
    {
     "data": {
      "image/png": "[encoded data removed]",
      "text/plain": [
       "<Figure size 864x432 with 1 Axes>"
      ]
     },
     "metadata": {
      "needs_background": "light"
     },
     "output_type": "display_data"
    }
   ],
   "source": [
    "plt.figure(figsize=(12,6))\n",
    "plt.plot(knn_obj.x_test.index, knn_obj.y_test, color='blue', label='Actual Prices')\n",
    "plt.plot(knn_obj.x_test.index, knn_obj.y_pred, color='red', label='Predicted Prices')\n",
    "plt.title(f'{crypto_currency} price prediction (KNN)')\n",
    "plt.xlabel('Date')\n",
    "plt.ylabel('Normalized Price')\n",
    "plt.legend(fontsize=14)\n",
    "plt.show()"
   ]
  },
  {
   "cell_type": "markdown",
   "id": "0c402f9a-f4b5-4ea7-bf32-d1f43e77d526",
   "metadata": {},
   "source": [
    "## Auto ARIMA (SARIMA)"
   ]
  },
  {
   "cell_type": "code",
   "execution_count": 33,
   "id": "6cb30c36-07ba-471f-860a-8de6b96ec2e8",
   "metadata": {},
   "outputs": [],
   "source": [
    "class SARIMA_Model:\n",
    "    def __init__(self):\n",
    "        self.model = None\n",
    "        # self.length = length_of_test_data\n",
    "        self.train_data = train_data['Adj Close'].values\n",
    "        self.test_data = test_data['Adj Close'].values\n",
    "        self.y_pred = []\n",
    "        self.mae = None\n",
    "        self.mape = None\n",
    "        self.train_time = 0\n",
    "        self.enquiry_time = 0\n",
    "\n",
    "    def build_model(self):\n",
    "        self.model =  auto_arima(self.train_data,start_p=0, d=1, start_q=0, \n",
    "                                 max_p=3, max_d=3, max_q=3, start_P=0, \n",
    "                                 D=1, start_Q=0, max_P=3, max_D=3,\n",
    "                                 max_Q=3, m=12, seasonal=True, \n",
    "                                 error_action='ignore',trace =True, suppress_warnings=True,\n",
    "                                 stepwise=True, random_state=20,n_fits=50)\n",
    "\n",
    "    def train_and_predict(self, p, d, q ,P, D, Q, s):\n",
    "        start = time.time()\n",
    "        self.model = pm.ARIMA(order=(p,d,q), seasonal_order=(P, D, Q, s))\n",
    "        self.model.fit(self.train_data, suppress_warnings=True, error_action='ignore')\n",
    "        end = time.time()\n",
    "        self.train_time += end - start\n",
    "        for i in range(len(self.test_data)):\n",
    "            start = time.time()\n",
    "            yhat = self.model.predict(n_periods=1)[0]\n",
    "            end = time.time()\n",
    "            self.enquiry_time += end - start\n",
    "            self.y_pred.append(yhat)\n",
    "            true_test_value = self.test_data[i]\n",
    "\n",
    "            start = time.time()\n",
    "            self.model.update(true_test_value, suppress_warnings=True, error_action='ignore')\n",
    "            end = time.time()\n",
    "            self.train_time += end - start"
   ]
  },
  {
   "cell_type": "markdown",
   "id": "4b936f76-6569-436e-8fe0-61ad03f8f2d3",
   "metadata": {},
   "source": [
    "### Adjust Hyperparameters"
   ]
  },
  {
   "cell_type": "code",
   "execution_count": 34,
   "id": "d0c0635f-4073-4ffb-84c4-97a8284b0639",
   "metadata": {},
   "outputs": [
    {
     "name": "stdout",
     "output_type": "stream",
     "text": [
      "Performing stepwise search to minimize aic\n",
      " ARIMA(0,1,0)(0,1,0)[12]             : AIC=-6288.470, Time=0.45 sec\n",
      " ARIMA(1,1,0)(1,1,0)[12]             : AIC=-6750.846, Time=1.48 sec\n",
      " ARIMA(0,1,1)(0,1,1)[12]             : AIC=inf, Time=3.47 sec\n",
      " ARIMA(1,1,0)(0,1,0)[12]             : AIC=-6299.693, Time=0.20 sec\n",
      " ARIMA(1,1,0)(2,1,0)[12]             : AIC=-6860.464, Time=1.76 sec\n",
      " ARIMA(1,1,0)(3,1,0)[12]             : AIC=-6969.377, Time=6.86 sec\n",
      " ARIMA(1,1,0)(3,1,1)[12]             : AIC=inf, Time=16.25 sec\n",
      " ARIMA(1,1,0)(2,1,1)[12]             : AIC=inf, Time=12.98 sec\n",
      " ARIMA(0,1,0)(3,1,0)[12]             : AIC=-6969.166, Time=1.85 sec\n",
      " ARIMA(2,1,0)(3,1,0)[12]             : AIC=-6975.409, Time=8.01 sec\n",
      " ARIMA(2,1,0)(2,1,0)[12]             : AIC=-6866.383, Time=5.34 sec\n",
      " ARIMA(2,1,0)(3,1,1)[12]             : AIC=-6897.574, Time=15.34 sec\n",
      " ARIMA(2,1,0)(2,1,1)[12]             : AIC=inf, Time=13.80 sec\n",
      " ARIMA(3,1,0)(3,1,0)[12]             : AIC=-6977.290, Time=13.46 sec\n",
      " ARIMA(3,1,0)(2,1,0)[12]             : AIC=-6865.380, Time=5.29 sec\n",
      " ARIMA(3,1,0)(3,1,1)[12]             : AIC=-6967.598, Time=22.21 sec\n",
      " ARIMA(3,1,0)(2,1,1)[12]             : AIC=inf, Time=14.15 sec\n",
      " ARIMA(3,1,1)(3,1,0)[12]             : AIC=-6975.225, Time=14.96 sec\n",
      " ARIMA(2,1,1)(3,1,0)[12]             : AIC=-6973.704, Time=8.22 sec\n",
      " ARIMA(3,1,0)(3,1,0)[12] intercept   : AIC=-6975.433, Time=37.94 sec\n",
      "\n",
      "Best model:  ARIMA(3,1,0)(3,1,0)[12]          \n",
      "Total fit time: 204.064 seconds\n"
     ]
    },
    {
     "data": {
      "text/html": [
       "<table class=\"simpletable\">\n",
       "<caption>SARIMAX Results</caption>\n",
       "<tr>\n",
       "  <th>Dep. Variable:</th>                  <td>y</td>               <th>  No. Observations:  </th>   <td>1242</td>   \n",
       "</tr>\n",
       "<tr>\n",
       "  <th>Model:</th>           <td>SARIMAX(3, 1, 0)x(3, 1, 0, 12)</td> <th>  Log Likelihood     </th> <td>3495.645</td> \n",
       "</tr>\n",
       "<tr>\n",
       "  <th>Date:</th>                   <td>Sun, 10 Apr 2022</td>        <th>  AIC                </th> <td>-6977.290</td>\n",
       "</tr>\n",
       "<tr>\n",
       "  <th>Time:</th>                       <td>21:25:22</td>            <th>  BIC                </th> <td>-6941.492</td>\n",
       "</tr>\n",
       "<tr>\n",
       "  <th>Sample:</th>                         <td>0</td>               <th>  HQIC               </th> <td>-6963.821</td>\n",
       "</tr>\n",
       "<tr>\n",
       "  <th></th>                             <td> - 1242</td>            <th>                     </th>     <td> </td>    \n",
       "</tr>\n",
       "<tr>\n",
       "  <th>Covariance Type:</th>               <td>opg</td>              <th>                     </th>     <td> </td>    \n",
       "</tr>\n",
       "</table>\n",
       "<table class=\"simpletable\">\n",
       "<tr>\n",
       "      <td></td>        <th>coef</th>     <th>std err</th>      <th>z</th>      <th>P>|z|</th>  <th>[0.025</th>    <th>0.975]</th>  \n",
       "</tr>\n",
       "<tr>\n",
       "  <th>ar.L1</th>    <td>   -0.0439</td> <td>    0.014</td> <td>   -3.161</td> <td> 0.002</td> <td>   -0.071</td> <td>   -0.017</td>\n",
       "</tr>\n",
       "<tr>\n",
       "  <th>ar.L2</th>    <td>    0.0837</td> <td>    0.014</td> <td>    6.060</td> <td> 0.000</td> <td>    0.057</td> <td>    0.111</td>\n",
       "</tr>\n",
       "<tr>\n",
       "  <th>ar.L3</th>    <td>    0.0568</td> <td>    0.016</td> <td>    3.560</td> <td> 0.000</td> <td>    0.026</td> <td>    0.088</td>\n",
       "</tr>\n",
       "<tr>\n",
       "  <th>ar.S.L12</th> <td>   -0.8600</td> <td>    0.011</td> <td>  -78.287</td> <td> 0.000</td> <td>   -0.881</td> <td>   -0.838</td>\n",
       "</tr>\n",
       "<tr>\n",
       "  <th>ar.S.L24</th> <td>   -0.5356</td> <td>    0.014</td> <td>  -39.413</td> <td> 0.000</td> <td>   -0.562</td> <td>   -0.509</td>\n",
       "</tr>\n",
       "<tr>\n",
       "  <th>ar.S.L36</th> <td>   -0.3559</td> <td>    0.015</td> <td>  -24.464</td> <td> 0.000</td> <td>   -0.384</td> <td>   -0.327</td>\n",
       "</tr>\n",
       "<tr>\n",
       "  <th>sigma2</th>   <td>    0.0002</td> <td> 2.51e-06</td> <td>   78.262</td> <td> 0.000</td> <td>    0.000</td> <td>    0.000</td>\n",
       "</tr>\n",
       "</table>\n",
       "<table class=\"simpletable\">\n",
       "<tr>\n",
       "  <th>Ljung-Box (L1) (Q):</th>     <td>0.00</td>  <th>  Jarque-Bera (JB):  </th> <td>19090.38</td>\n",
       "</tr>\n",
       "<tr>\n",
       "  <th>Prob(Q):</th>                <td>0.95</td>  <th>  Prob(JB):          </th>   <td>0.00</td>  \n",
       "</tr>\n",
       "<tr>\n",
       "  <th>Heteroskedasticity (H):</th> <td>13.55</td> <th>  Skew:              </th>   <td>-0.83</td> \n",
       "</tr>\n",
       "<tr>\n",
       "  <th>Prob(H) (two-sided):</th>    <td>0.00</td>  <th>  Kurtosis:          </th>   <td>22.24</td> \n",
       "</tr>\n",
       "</table><br/><br/>Warnings:<br/>[1] Covariance matrix calculated using the outer product of gradients (complex-step)."
      ],
      "text/plain": [
       "<class 'statsmodels.iolib.summary.Summary'>\n",
       "\"\"\"\n",
       "                                     SARIMAX Results                                      \n",
       "==========================================================================================\n",
       "Dep. Variable:                                  y   No. Observations:                 1242\n",
       "Model:             SARIMAX(3, 1, 0)x(3, 1, 0, 12)   Log Likelihood                3495.645\n",
       "Date:                            Sun, 10 Apr 2022   AIC                          -6977.290\n",
       "Time:                                    21:25:22   BIC                          -6941.492\n",
       "Sample:                                         0   HQIC                         -6963.821\n",
       "                                           - 1242                                         \n",
       "Covariance Type:                              opg                                         \n",
       "==============================================================================\n",
       "                 coef    std err          z      P>|z|      [0.025      0.975]\n",
       "------------------------------------------------------------------------------\n",
       "ar.L1         -0.0439      0.014     -3.161      0.002      -0.071      -0.017\n",
       "ar.L2          0.0837      0.014      6.060      0.000       0.057       0.111\n",
       "ar.L3          0.0568      0.016      3.560      0.000       0.026       0.088\n",
       "ar.S.L12      -0.8600      0.011    -78.287      0.000      -0.881      -0.838\n",
       "ar.S.L24      -0.5356      0.014    -39.413      0.000      -0.562      -0.509\n",
       "ar.S.L36      -0.3559      0.015    -24.464      0.000      -0.384      -0.327\n",
       "sigma2         0.0002   2.51e-06     78.262      0.000       0.000       0.000\n",
       "===================================================================================\n",
       "Ljung-Box (L1) (Q):                   0.00   Jarque-Bera (JB):             19090.38\n",
       "Prob(Q):                              0.95   Prob(JB):                         0.00\n",
       "Heteroskedasticity (H):              13.55   Skew:                            -0.83\n",
       "Prob(H) (two-sided):                  0.00   Kurtosis:                        22.24\n",
       "===================================================================================\n",
       "\n",
       "Warnings:\n",
       "[1] Covariance matrix calculated using the outer product of gradients (complex-step).\n",
       "\"\"\""
      ]
     },
     "execution_count": 34,
     "metadata": {},
     "output_type": "execute_result"
    }
   ],
   "source": [
    "sarima_obj = SARIMA_Model()\n",
    "sarima_obj.build_model()\n",
    "sarima_obj.model.summary()"
   ]
  },
  {
   "cell_type": "markdown",
   "id": "0e00d333-a2ea-4b09-8662-79780849756d",
   "metadata": {},
   "source": [
    "### Train Model and Predict"
   ]
  },
  {
   "cell_type": "markdown",
   "id": "d6e6f503-63b4-4d6f-ab41-e67162dc4041",
   "metadata": {},
   "source": [
    "As we can see from output above, the best model is **SARIMAX(3, 1, 0)x(3, 1, 0, 12)**"
   ]
  },
  {
   "cell_type": "code",
   "execution_count": 35,
   "id": "ef7e6ba8-24a8-4576-b99b-4de4dc4e496c",
   "metadata": {},
   "outputs": [],
   "source": [
    "sarima_obj.train_and_predict(3, 1, 0, 3, 1, 0, 12)"
   ]
  },
  {
   "cell_type": "markdown",
   "id": "9a743d20-c746-4f32-93c8-6581f62e467f",
   "metadata": {},
   "source": [
    "### Evaluation"
   ]
  },
  {
   "cell_type": "code",
   "execution_count": 36,
   "id": "5e8a9304-5ece-4764-af0e-a41708959ac1",
   "metadata": {},
   "outputs": [
    {
     "data": {
      "image/png": "[encoded data removed]",
      "text/plain": [
       "<Figure size 864x432 with 1 Axes>"
      ]
     },
     "metadata": {
      "needs_background": "light"
     },
     "output_type": "display_data"
    }
   ],
   "source": [
    "plt.figure(figsize=(12,6))\n",
    "plt.plot(test_data.index, sarima_obj.test_data, color='blue', label='Actual Prices')\n",
    "plt.plot(test_data.index, sarima_obj.y_pred, color='red', label='Predicted Prices')\n",
    "plt.title(f'{crypto_currency} price prediction (ARIMA)')\n",
    "plt.xlabel('Date')\n",
    "plt.ylabel('Normalized Price')\n",
    "plt.legend(fontsize=14)\n",
    "plt.show()"
   ]
  },
  {
   "cell_type": "code",
   "execution_count": 37,
   "id": "29a679c2-01a1-4aa2-b086-da590806a67c",
   "metadata": {},
   "outputs": [
    {
     "data": {
      "text/plain": [
       "0.02164328821572362"
      ]
     },
     "execution_count": 37,
     "metadata": {},
     "output_type": "execute_result"
    }
   ],
   "source": [
    "sarima_obj.mae = mean_absolute_error(sarima_obj.y_pred, sarima_obj.test_data)\n",
    "sarima_obj.mae"
   ]
  },
  {
   "cell_type": "code",
   "execution_count": 38,
   "id": "e5a8bd77-3568-4c30-a3d5-d76da7649cd2",
   "metadata": {},
   "outputs": [
    {
     "data": {
      "text/plain": [
       "0.03401831993908218"
      ]
     },
     "execution_count": 38,
     "metadata": {},
     "output_type": "execute_result"
    }
   ],
   "source": [
    "sarima_obj.mape = mean_absolute_percentage_error(sarima_obj.y_pred, sarima_obj.test_data)\n",
    "sarima_obj.mape"
   ]
  },
  {
   "cell_type": "markdown",
   "id": "f95da8ea-4be6-4c33-88c7-4948c536f2b2",
   "metadata": {},
   "source": [
    "# Comments and Conclusion"
   ]
  },
  {
   "cell_type": "code",
   "execution_count": 39,
   "id": "167c76b9-dcb1-49ef-8c59-7c758b4c64ed",
   "metadata": {},
   "outputs": [],
   "source": [
    "res_df = pd.DataFrame({'ML Methods':['LSTM', 'KNN', 'SARIMA'],\n",
    "        'MAE':[0, 0, 0], 'MAPE': [0, 0, 0], 'Training Time (Seconds)':[0, 0, 0], 'Enquiry Time (Seconds)':[0, 0, 0]})\n",
    "res_df.index = res_df['ML Methods']\n",
    "res_df = res_df.drop(columns=['ML Methods'])\n",
    "\n",
    "res_df.loc['LSTM', 'MAE'] = lstm_obj.mae\n",
    "res_df.loc['LSTM', 'MAPE'] = lstm_obj.mape\n",
    "res_df.loc['LSTM', 'Training Time (Seconds)'] = lstm_obj.train_time\n",
    "res_df.loc['LSTM', 'Enquiry Time (Seconds)'] = lstm_obj.enquiry_time\n",
    "\n",
    "res_df.loc['KNN', 'MAE'] = knn_obj.mae\n",
    "res_df.loc['KNN', 'MAPE'] = knn_obj.mape\n",
    "res_df.loc['KNN', 'Training Time (Seconds)'] = knn_obj.train_time\n",
    "res_df.loc['KNN', 'Enquiry Time (Seconds)'] = knn_obj.enquiry_time\n",
    "\n",
    "\n",
    "res_df.loc['SARIMA', 'MAE'] = sarima_obj.mae\n",
    "res_df.loc['SARIMA', 'MAPE'] = sarima_obj.mape\n",
    "res_df.loc['SARIMA', 'Training Time (Seconds)'] = sarima_obj.train_time\n",
    "res_df.loc['SARIMA', 'Enquiry Time (Seconds)'] = sarima_obj.enquiry_time"
   ]
  },
  {
   "cell_type": "code",
   "execution_count": 40,
   "id": "3a1a44f8-008b-4b24-a66f-91b69cc0757f",
   "metadata": {},
   "outputs": [
    {
     "data": {
      "text/html": [
       "<div>\n",
       "<style scoped>\n",
       "    .dataframe tbody tr th:only-of-type {\n",
       "        vertical-align: middle;\n",
       "    }\n",
       "\n",
       "    .dataframe tbody tr th {\n",
       "        vertical-align: top;\n",
       "    }\n",
       "\n",
       "    .dataframe thead th {\n",
       "        text-align: right;\n",
       "    }\n",
       "</style>\n",
       "<table border=\"1\" class=\"dataframe\">\n",
       "  <thead>\n",
       "    <tr style=\"text-align: right;\">\n",
       "      <th></th>\n",
       "      <th>MAE</th>\n",
       "      <th>MAPE</th>\n",
       "      <th>Training Time (Seconds)</th>\n",
       "      <th>Enquiry Time (Seconds)</th>\n",
       "    </tr>\n",
       "    <tr>\n",
       "      <th>ML Methods</th>\n",
       "      <th></th>\n",
       "      <th></th>\n",
       "      <th></th>\n",
       "      <th></th>\n",
       "    </tr>\n",
       "  </thead>\n",
       "  <tbody>\n",
       "    <tr>\n",
       "      <th>LSTM</th>\n",
       "      <td>0.033405</td>\n",
       "      <td>0.052274</td>\n",
       "      <td>24.394035</td>\n",
       "      <td>1.96325</td>\n",
       "    </tr>\n",
       "    <tr>\n",
       "      <th>KNN</th>\n",
       "      <td>0.028633</td>\n",
       "      <td>0.043858</td>\n",
       "      <td>0.009997</td>\n",
       "      <td>0.00799</td>\n",
       "    </tr>\n",
       "    <tr>\n",
       "      <th>SARIMA</th>\n",
       "      <td>0.021643</td>\n",
       "      <td>0.034018</td>\n",
       "      <td>2578.818116</td>\n",
       "      <td>6.18678</td>\n",
       "    </tr>\n",
       "  </tbody>\n",
       "</table>\n",
       "</div>"
      ],
      "text/plain": [
       "                 MAE      MAPE  Training Time (Seconds)  \\\n",
       "ML Methods                                                \n",
       "LSTM        0.033405  0.052274                24.394035   \n",
       "KNN         0.028633  0.043858                 0.009997   \n",
       "SARIMA      0.021643  0.034018              2578.818116   \n",
       "\n",
       "            Enquiry Time (Seconds)  \n",
       "ML Methods                          \n",
       "LSTM                       1.96325  \n",
       "KNN                        0.00799  \n",
       "SARIMA                     6.18678  "
      ]
     },
     "execution_count": 40,
     "metadata": {},
     "output_type": "execute_result"
    }
   ],
   "source": [
    "res_df"
   ]
  },
  {
   "cell_type": "code",
   "execution_count": 41,
   "id": "2e3491c4-f0d1-46a7-866a-be8d908ad56f",
   "metadata": {},
   "outputs": [
    {
     "data": {
      "text/plain": [
       "0.13663107973481692"
      ]
     },
     "execution_count": 41,
     "metadata": {},
     "output_type": "execute_result"
    }
   ],
   "source": [
    "np.std(test_data['Adj Close'])"
   ]
  },
  {
   "cell_type": "markdown",
   "id": "4b1a008c-5233-4561-8ded-d945cc6735ff",
   "metadata": {},
   "source": [
    "All 3 models perform very well considering that their MAE are between 2% and 3% while the standard deviation of the adjusted closing price during test period is over 13%. Surprisingly, the traditional statistical time series method SARIMA outperforms in terms of MAE and MAPE among these models. \n",
    "\n",
    "However, SARIMA prediction process takes me over 40 minutes to finish since for every iteration, I need to train a new SARIMA model with updated information although I have already used the efficient update function in <code>pmdarima</code> library as mentioned in Introduction section. The runtime is acceptable if we do medium frequency trading (e.g. rebalance several times during the day). But for high frequency trading, the runtime of training new model every time when new information comes in is not acceptable and if we do not update the model every time, the SARIMA performance would become worse. KNN actually runs fastest among these models while LSTM needs some time to train model (24 seconds) while it is relatively fast to enquire (~2 seconds).\n",
    "\n",
    "Moreover, there are many areas in this project that we can improve in the future study. For example, as mentioned before, many parameters in LSTM are not optimized such as window length, dropout rate and number of layers. We may also add other processed features such as SMA, Bollinger Band and etc. Furthermore, we can convert the prediction into trading strategies. For example, if the model predicts the price will go up in the future, we buy the stock and vice versa."
   ]
  }
 ],
 "metadata": {
  "citation-manager": {
   "items": {}
  },
  "kernelspec": {
   "display_name": "Python 3 (ipykernel)",
   "language": "python",
   "name": "python3"
  },
  "language_info": {
   "codemirror_mode": {
    "name": "ipython",
    "version": 3
   },
   "file_extension": ".py",
   "mimetype": "text/x-python",
   "name": "python",
   "nbconvert_exporter": "python",
   "pygments_lexer": "ipython3",
   "version": "3.8.8"
  },
  "toc-autonumbering": true,
  "toc-showcode": false,
  "toc-showmarkdowntxt": false,
  "toc-showtags": false
 },
 "nbformat": 4,
 "nbformat_minor": 5
}
