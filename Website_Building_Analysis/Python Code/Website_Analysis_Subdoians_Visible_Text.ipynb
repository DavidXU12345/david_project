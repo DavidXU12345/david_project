{
 "cells": [
  {
   "cell_type": "markdown",
   "metadata": {},
   "source": [
    "# Get all URLs from Bowtie website"
   ]
  },
  {
   "cell_type": "code",
   "execution_count": 3,
   "metadata": {},
   "outputs": [
    {
     "name": "stdout",
     "output_type": "stream",
     "text": [
      "['https://www.bowtie.com.hk', 'https://www.bowtie.com.hk/en', 'https://www.bowtie.com.hk/zh/about-us', 'https://www.bowtie.com.hk/en/about-us', 'https://www.bowtie.com.hk/zh/about-us/bowtiecash', 'https://www.bowtie.com.hk/zh/about-us/join-us', 'https://www.bowtie.com.hk/zh/about-us/leadership', 'https://www.bowtie.com.hk/zh/about-us/press', 'https://www.bowtie.com.hk/en/media', 'https://www.bowtie.com.hk/zh/health/bowtievision', 'https://www.bowtie.com.hk/zh/insurance/accidental', 'https://www.bowtie.com.hk/zh/insurance/cancer', 'https://www.bowtie.com.hk/zh/insurance/critical-illness', 'https://www.bowtie.com.hk/zh/insurance/group-medical', 'https://www.bowtie.com.hk/zh/insurance/group-medical-plan-details', 'https://www.bowtie.com.hk/zh/insurance/term-life', 'https://www.bowtie.com.hk/zh/insurance/vhis', 'https://www.bowtie.com.hk/zh/insurance/vhis/comparison', 'https://www.bowtie.com.hk/zh/insurance/vhis/flexi', 'https://www.bowtie.com.hk/zh/insurance/vhis/standard', 'https://www.bowtie.com.hk/zh/insurance/vhis/standard-v2', 'https://www.bowtie.com.hk/zh/john-tsang', 'https://www.bowtie.com.hk/zh/offer', 'https://www.bowtie.com.hk/zh/offer/4protection', 'https://www.bowtie.com.hk/zh/offer/anniversary', 'https://www.bowtie.com.hk/zh/offer/coronavirus', 'https://www.bowtie.com.hk/zh/offer/medic-family', 'https://www.bowtie.com.hk/zh/offer/referral-program', 'https://www.bowtie.com.hk/zh/resources/health-insurance', 'https://www.bowtie.com.hk/zh/resources/hospitalization-insurance', 'https://www.bowtie.com.hk/zh/resources/insurance-101', 'https://www.bowtie.com.hk/zh/resources/insurance-101/bowtie-vhis', 'https://www.bowtie.com.hk/zh/resources/insurance-101/choose-your-provider', 'https://www.bowtie.com.hk/zh/resources/insurance-101/what-is-health-insurance', 'https://www.bowtie.com.hk/zh/resources/insurance-101/what-is-insurance', 'https://www.bowtie.com.hk/zh/resources/insurance-101/what-is-vhis', 'https://www.bowtie.com.hk/zh/resources/virtual-insurance', 'https://www.bowtie.com.hk/zh/services/contact-us', 'https://www.bowtie.com.hk/zh/services/how-to-apply', 'https://www.bowtie.com.hk/zh/services/how-to-claim', 'https://www.bowtie.com.hk/zh/services/online-claim', 'https://www.bowtie.com.hk', 'https://www.bowtie.com.hk/en', 'https://www.bowtie.com.hk/zh/about-us', 'https://www.bowtie.com.hk/en/about-us', 'https://www.bowtie.com.hk/en/insurance/accidental', 'https://www.bowtie.com.hk/en/insurance/cancer', 'https://www.bowtie.com.hk/en/insurance/critical-illness', 'https://www.bowtie.com.hk/en/insurance/group-medical', 'https://www.bowtie.com.hk/en/insurance/group-medical-details', 'https://www.bowtie.com.hk/en/insurance/term-life', 'https://www.bowtie.com.hk/en/insurance/vhis/flexi', 'https://www.bowtie.com.hk/en/insurance/vhis/standard', 'https://www.bowtie.com.hk/zh/about-us/press', 'https://www.bowtie.com.hk/en/media', 'https://www.bowtie.com.hk/en/offer/referral-program', 'https://www.bowtie.com.hk/en/services/contact-us']\n"
     ]
    }
   ],
   "source": [
    "import requests\n",
    "from bs4 import BeautifulSoup\n",
    "\n",
    "url = 'https://www.bowtie.com.hk/sitemap.xml'\n",
    "req = requests.get(url)\n",
    "soup = BeautifulSoup(req.text)\n",
    "\n",
    "urls = []\n",
    "for link in soup.find_all('xhtml:link'):\n",
    "    urls.append(link.get('href'))\n",
    "\n",
    "print (urls)"
   ]
  },
  {
   "cell_type": "markdown",
   "metadata": {},
   "source": [
    "# Pages containing \"Fred\""
   ]
  },
  {
   "cell_type": "code",
   "execution_count": 51,
   "metadata": {},
   "outputs": [
    {
     "name": "stdout",
     "output_type": "stream",
     "text": [
      "['https://www.bowtie.com.hk/en/about-us', 'https://www.bowtie.com.hk/zh/about-us/leadership', 'https://www.bowtie.com.hk/en/about-us']\n"
     ]
    }
   ],
   "source": [
    "list_with_Fred=[]\n",
    "for url in urls:\n",
    "    r = requests.get(url)\n",
    "    newSoup = BeautifulSoup(r.text)\n",
    "    if newSoup.find('p') is None:\n",
    "        continue\n",
    "    else: \n",
    "        if 'Fred' in newSoup.find('p').getText():\n",
    "            list_with_Fred.append(url)\n",
    "\n",
    "print (list_with_Fred)"
   ]
  },
  {
   "cell_type": "markdown",
   "metadata": {},
   "source": [
    "# Sub-domains Finder"
   ]
  },
  {
   "cell_type": "code",
   "execution_count": 1,
   "metadata": {},
   "outputs": [],
   "source": [
    "domain = \"bowtie.com.hk\"\n",
    "file = open(\"subdomains.txt\")\n",
    "# read all content\n",
    "content = file.read()\n",
    "# split by new lines\n",
    "subdomains = content.splitlines()\n",
    "# a list of discovered subdomains\n",
    "discovered_subdomains = []\n",
    "for subdomain in subdomains:\n",
    "    # construct the url\n",
    "    url = f\"http://{subdomain}.{domain}\"\n",
    "    try:\n",
    "        r = requests.get(url)\n",
    "    except:\n",
    "        continue\n",
    "    if str(r) == '<Response [200]>':\n",
    "        print(\"[+] Discovered subdomain:\", url)\n",
    "        discovered_subdomains.append(url)"
   ]
  },
  {
   "cell_type": "code",
   "execution_count": 5,
   "metadata": {},
   "outputs": [
    {
     "data": {
      "text/plain": [
       "['http://www.bowtie.com.hk',\n",
       " 'http://vpn.bowtie.com.hk',\n",
       " 'http://api.bowtie.com.hk',\n",
       " 'http://staging.bowtie.com.hk',\n",
       " 'http://app.bowtie.com.hk',\n",
       " 'http://help.bowtie.com.hk',\n",
       " 'http://status.bowtie.com.hk',\n",
       " 'http://ss.bowtie.com.hk']"
      ]
     },
     "execution_count": 5,
     "metadata": {},
     "output_type": "execute_result"
    }
   ],
   "source": [
    "discovered_subdomains"
   ]
  }
 ],
 "metadata": {
  "kernelspec": {
   "display_name": "Python 3",
   "language": "python",
   "name": "python3"
  },
  "language_info": {
   "codemirror_mode": {
    "name": "ipython",
    "version": 3
   },
   "file_extension": ".py",
   "mimetype": "text/x-python",
   "name": "python",
   "nbconvert_exporter": "python",
   "pygments_lexer": "ipython3",
   "version": "3.7.1"
  }
 },
 "nbformat": 4,
 "nbformat_minor": 2
}
