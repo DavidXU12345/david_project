{
 "cells": [
  {
   "cell_type": "markdown",
   "metadata": {},
   "source": [
    "# Two Sum\n",
    "\n",
    "Given an array of integers nums and an integer target, return indices of the two numbers such that they add up to target.\n",
    "\n",
    "You may assume that each input would have exactly one solution, and you may not use the same element twice.\n",
    "\n",
    "You can return the answer in any order."
   ]
  },
  {
   "cell_type": "code",
   "execution_count": 20,
   "metadata": {},
   "outputs": [],
   "source": [
    "# Double Pointers\n",
    "def twoSum(nums, target):\n",
    "    nums_copy = nums.copy()\n",
    "    nums.sort()\n",
    "    i = 0\n",
    "    j = len(nums)-1\n",
    "    \n",
    "    while i<j:\n",
    "        if nums[i]+nums[j] > target:\n",
    "            j = j-1\n",
    "        elif nums[i]+nums[j] < target:\n",
    "            i = i+1\n",
    "        else:\n",
    "            res = [nums[i], nums[j]]\n",
    "            break\n",
    "    \n",
    "    if res[0]!=res[1]:\n",
    "        index1 = nums_copy.index(res[0])\n",
    "        index2 = nums_copy.index(res[1])\n",
    "    else:\n",
    "        index1 = nums_copy.index(res[0])\n",
    "        index2 = nums_copy.index(res[1], index1+1)\n",
    "    \n",
    "    return [index1, index2]"
   ]
  },
  {
   "cell_type": "code",
   "execution_count": 21,
   "metadata": {},
   "outputs": [
    {
     "data": {
      "text/plain": [
       "[4, 2]"
      ]
     },
     "execution_count": 21,
     "metadata": {},
     "output_type": "execute_result"
    }
   ],
   "source": [
    "nums = [-1, -2, -3, -4, -5]\n",
    "target = -8\n",
    "twoSum(nums, target)"
   ]
  },
  {
   "cell_type": "code",
   "execution_count": 24,
   "metadata": {},
   "outputs": [],
   "source": [
    "# Hashtables: Time complexity O(N) / Space Complexity O(N)\n",
    "def twoSum2 (nums, target):\n",
    "    hash_table = {}\n",
    "    for i in range(len(nums)):\n",
    "        if (target - nums[i]) in hash_table:\n",
    "            return [i, hash_table[target-nums[i]]]\n",
    "        else:\n",
    "            hash_table[nums[i]] = i"
   ]
  },
  {
   "cell_type": "code",
   "execution_count": 25,
   "metadata": {},
   "outputs": [
    {
     "data": {
      "text/plain": [
       "[4, 2]"
      ]
     },
     "execution_count": 25,
     "metadata": {},
     "output_type": "execute_result"
    }
   ],
   "source": [
    "nums = [-1, -2, -3, -4, -5]\n",
    "target = -8\n",
    "twoSum2(nums, target)"
   ]
  },
  {
   "cell_type": "code",
   "execution_count": null,
   "metadata": {},
   "outputs": [],
   "source": []
  }
 ],
 "metadata": {
  "kernelspec": {
   "display_name": "Python 3",
   "language": "python",
   "name": "python3"
  },
  "language_info": {
   "codemirror_mode": {
    "name": "ipython",
    "version": 3
   },
   "file_extension": ".py",
   "mimetype": "text/x-python",
   "name": "python",
   "nbconvert_exporter": "python",
   "pygments_lexer": "ipython3",
   "version": "3.7.1"
  }
 },
 "nbformat": 4,
 "nbformat_minor": 2
}
