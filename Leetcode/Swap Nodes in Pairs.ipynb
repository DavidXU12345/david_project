{
 "cells": [
  {
   "cell_type": "markdown",
   "metadata": {},
   "source": [
    "# Swap Nodes in Pairs\n",
    "Given a linked list, swap every two adjacent nodes and return its head."
   ]
  },
  {
   "cell_type": "code",
   "execution_count": 1,
   "metadata": {},
   "outputs": [],
   "source": [
    "# Definition for singly-linked list.\n",
    "class ListNode:\n",
    "    def __init__(self, val=0, next=None):\n",
    "        self.val = val\n",
    "        self.next = next\n",
    "\n",
    "class Solution:\n",
    "    def swapPairs(self, head: ListNode) -> ListNode:\n",
    "        if head is None:\n",
    "            return None\n",
    "        elif head.next is None:\n",
    "            return head\n",
    "        \n",
    "        # Swap first pair\n",
    "        tail = head\n",
    "        curr = head.next.next\n",
    "        head = head.next\n",
    "        head.next = tail\n",
    "        \n",
    "        # If the linked list has only two elements\n",
    "        if curr is None:\n",
    "            tail.next = curr\n",
    "            return head\n",
    "        \n",
    "        # Swap rest of the linked list\n",
    "        while True:\n",
    "            # If it has even number of elements\n",
    "            if curr is None:\n",
    "                return head\n",
    "            # If it has odd number of elements\n",
    "            if curr.next is None:\n",
    "                tail.next = curr\n",
    "                return head\n",
    "            tail.next = curr.next\n",
    "            curr_copy = curr\n",
    "            curr = curr.next.next\n",
    "            curr_copy.next = None\n",
    "            tail.next.next = curr_copy\n",
    "            tail = curr_copy\n",
    "        \n"
   ]
  },
  {
   "cell_type": "code",
   "execution_count": null,
   "metadata": {},
   "outputs": [],
   "source": [
    "#Standard Answer\n",
    "class Solution:\n",
    "    def swapPairs(self, head: ListNode) -> ListNode:\n",
    "        if head is None or head.next is None:\n",
    "            return head\n",
    "        \n",
    "        dummy = ListNode (-1)\n",
    "        dummy.next = head\n",
    "        curr = dummy\n",
    "        \n",
    "        while curr.next and curr.next.next:\n",
    "            first = curr.next\n",
    "            second = curr.next.next\n",
    "            curr.next = second\n",
    "            first.next = second.next\n",
    "            second.next = first\n",
    "            curr = curr.next.next\n",
    "        \n",
    "        return dummy.next"
   ]
  }
 ],
 "metadata": {
  "kernelspec": {
   "display_name": "Python 3",
   "language": "python",
   "name": "python3"
  },
  "language_info": {
   "codemirror_mode": {
    "name": "ipython",
    "version": 3
   },
   "file_extension": ".py",
   "mimetype": "text/x-python",
   "name": "python",
   "nbconvert_exporter": "python",
   "pygments_lexer": "ipython3",
   "version": "3.7.1"
  }
 },
 "nbformat": 4,
 "nbformat_minor": 2
}
