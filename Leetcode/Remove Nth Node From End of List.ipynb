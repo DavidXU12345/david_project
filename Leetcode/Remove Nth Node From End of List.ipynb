{
 "cells": [
  {
   "cell_type": "markdown",
   "metadata": {},
   "source": [
    "# Remove Nth Node From End of List\n",
    "\n",
    "Given the head of a linked list, remove the nth node from the end of the list and return its head."
   ]
  },
  {
   "cell_type": "code",
   "execution_count": 2,
   "metadata": {},
   "outputs": [],
   "source": [
    "# Definition for singly-linked list.\n",
    "class ListNode:\n",
    "    def __init__(self, val=0, next=None):\n",
    "        self.val = val\n",
    "        self.next = next\n",
    "        \n",
    "# My own solution, traverse the linked list twice\n",
    "class Solution:\n",
    "    def removeNthFromEnd(self, head: ListNode, n: int) -> ListNode:\n",
    "        i = 1\n",
    "        dummy_head = head\n",
    "        head_copy = head\n",
    "        \n",
    "        if head.next is None:\n",
    "            return None\n",
    "        \n",
    "        while head.next:\n",
    "            head = head.next\n",
    "            i = i+1\n",
    "        \n",
    "        if i == n:\n",
    "            dummy_head = head_copy.next\n",
    "            head_copy.next = None\n",
    "            return dummy_head\n",
    "\n",
    "        for j in range(i-n-1):\n",
    "            head_copy = head_copy.next\n",
    "        \n",
    "        head_copy.next = head_copy.next.next\n",
    "        \n",
    "        return dummy_head"
   ]
  },
  {
   "cell_type": "code",
   "execution_count": 4,
   "metadata": {},
   "outputs": [],
   "source": [
    "# Slow and Fast Pointer with dummy head\n",
    "class Solution:\n",
    "    def removeNthFromEnd(self, head: ListNode, n: int) -> ListNode:\n",
    "        dummy = ListNode (-1)\n",
    "        dummy.next = head\n",
    "        slow = dummy\n",
    "        fast = dummy\n",
    "        \n",
    "        for i in range(n):\n",
    "            fast = fast.next\n",
    "        \n",
    "        while fast.next:\n",
    "            slow = slow.next\n",
    "            fast = fast.next\n",
    "        \n",
    "        slow.next = slow.next.next\n",
    "        \n",
    "        return dummy.next"
   ]
  },
  {
   "cell_type": "code",
   "execution_count": null,
   "metadata": {},
   "outputs": [],
   "source": []
  }
 ],
 "metadata": {
  "kernelspec": {
   "display_name": "Python 3",
   "language": "python",
   "name": "python3"
  },
  "language_info": {
   "codemirror_mode": {
    "name": "ipython",
    "version": 3
   },
   "file_extension": ".py",
   "mimetype": "text/x-python",
   "name": "python",
   "nbconvert_exporter": "python",
   "pygments_lexer": "ipython3",
   "version": "3.7.1"
  }
 },
 "nbformat": 4,
 "nbformat_minor": 2
}
